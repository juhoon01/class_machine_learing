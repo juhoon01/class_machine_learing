{
  "nbformat": 4,
  "nbformat_minor": 0,
  "metadata": {
    "colab": {
      "provenance": []
    },
    "kernelspec": {
      "name": "python3",
      "display_name": "Python 3"
    },
    "language_info": {
      "name": "python"
    }
  },
  "cells": [
    {
      "cell_type": "code",
      "source": [
        "import pandas as pd\n",
        "import numpy as np\n",
        "from sklearn.model_selection import train_test_split\n",
        "from tensorflow.keras.preprocessing.text import Tokenizer\n",
        "from tensorflow.keras.preprocessing.sequence import pad_sequences\n",
        "from tensorflow.keras.models import Sequential\n",
        "from tensorflow.keras.layers import Embedding, Bidirectional, LSTM, Dense, Dropout\n",
        "from sklearn.metrics import classification_report, confusion_matrix\n",
        "from tensorflow.keras.callbacks import EarlyStopping\n",
        "\n",
        "# 데이터 로드 및 기본 전처리\n",
        "df = pd.read_csv('winemag-data-130k-v2.csv')\n",
        "df['variety'] = df['variety'].fillna('')\n",
        "df['description'] = df['description'].fillna('').str.lower()\n",
        "\n",
        "# 주요 품종 선택 (타겟 클래스)\n",
        "target_varieties = ['Cabernet Sauvignon', 'Merlot', 'Pinot Noir', 'Chardonnay', 'Riesling', 'Sauvignon Blanc']\n",
        "df = df[df['variety'].isin(target_varieties)]\n",
        "\n",
        "# 품종을 정수로 인코딩\n",
        "df['variety_encoded'] = df['variety'].astype('category').cat.codes\n",
        "y = pd.get_dummies(df['variety_encoded']).values\n",
        "\n",
        "# 텍스트 데이터 전처리\n",
        "max_words = 15000  # 사용할 최대 단어 수\n",
        "max_len = 120      # 시퀀스 길이\n",
        "\n",
        "tokenizer = Tokenizer(num_words=max_words)\n",
        "tokenizer.fit_on_texts(df['description'])\n",
        "X = tokenizer.texts_to_sequences(df['description'])\n",
        "X = pad_sequences(X, maxlen=max_len)\n",
        "\n",
        "# 데이터셋 분리\n",
        "X_train, X_test, y_train, y_test = train_test_split(X, y, test_size=0.2, random_state=42)\n",
        "\n",
        "# 모델 정의\n",
        "model_multi = Sequential()\n",
        "model_multi.add(Embedding(input_dim=max_words, output_dim=128, input_length=max_len))\n",
        "model_multi.add(Bidirectional(LSTM(64, return_sequences=True)))\n",
        "model_multi.add(Dropout(0.5))\n",
        "model_multi.add(LSTM(64, return_sequences=False))\n",
        "model_multi.add(Dropout(0.5))\n",
        "model_multi.add(Dense(64, activation='relu'))\n",
        "model_multi.add(Dense(len(target_varieties), activation='softmax'))\n",
        "\n",
        "# 모델 컴파일\n",
        "model_multi.compile(loss='categorical_crossentropy', optimizer='adam', metrics=['accuracy'])\n",
        "\n",
        "# 조기 종료 콜백\n",
        "early_stopping = EarlyStopping(monitor='val_loss', patience=3, restore_best_weights=True)\n",
        "\n",
        "# 모델 학습\n",
        "history = model_multi.fit(X_train, y_train, epochs=20, batch_size=64, validation_split=0.2, callbacks=[early_stopping])\n",
        "\n",
        "# 모델 평가\n",
        "loss, accuracy = model_multi.evaluate(X_test, y_test)\n",
        "print(f\"Test Loss: {loss}\")\n",
        "print(f\"Test Accuracy: {accuracy}\")\n",
        "\n",
        "# 추가 평가 지표 계산\n",
        "y_pred = model_multi.predict(X_test)\n",
        "y_pred_classes = np.argmax(y_pred, axis=1)\n",
        "y_true_classes = np.argmax(y_test, axis=1)\n",
        "\n",
        "print(classification_report(y_true_classes, y_pred_classes, target_names=target_varieties))\n",
        "print(\"Confusion Matrix:\")\n",
        "print(confusion_matrix(y_true_classes, y_pred_classes))\n"
      ],
      "metadata": {
        "id": "vlPAWO8BMTGm",
        "colab": {
          "base_uri": "https://localhost:8080/"
        },
        "outputId": "9399e959-c2a0-47a8-a734-17027a3a6f88"
      },
      "execution_count": null,
      "outputs": [
        {
          "output_type": "stream",
          "name": "stderr",
          "text": [
            "<ipython-input-11-4e4790c2bfc0>:21: SettingWithCopyWarning: \n",
            "A value is trying to be set on a copy of a slice from a DataFrame.\n",
            "Try using .loc[row_indexer,col_indexer] = value instead\n",
            "\n",
            "See the caveats in the documentation: https://pandas.pydata.org/pandas-docs/stable/user_guide/indexing.html#returning-a-view-versus-a-copy\n",
            "  df['variety_encoded'] = df['variety'].astype('category').cat.codes\n"
          ]
        },
        {
          "output_type": "stream",
          "name": "stdout",
          "text": [
            "Epoch 1/20\n"
          ]
        },
        {
          "output_type": "stream",
          "name": "stderr",
          "text": [
            "/usr/local/lib/python3.10/dist-packages/keras/src/layers/core/embedding.py:90: UserWarning: Argument `input_length` is deprecated. Just remove it.\n",
            "  warnings.warn(\n"
          ]
        },
        {
          "output_type": "stream",
          "name": "stdout",
          "text": [
            "\u001b[1m478/478\u001b[0m \u001b[32m━━━━━━━━━━━━━━━━━━━━\u001b[0m\u001b[37m\u001b[0m \u001b[1m259s\u001b[0m 527ms/step - accuracy: 0.5303 - loss: 1.1497 - val_accuracy: 0.8003 - val_loss: 0.5592\n",
            "Epoch 2/20\n",
            "\u001b[1m478/478\u001b[0m \u001b[32m━━━━━━━━━━━━━━━━━━━━\u001b[0m\u001b[37m\u001b[0m \u001b[1m266s\u001b[0m 537ms/step - accuracy: 0.8332 - loss: 0.4688 - val_accuracy: 0.8274 - val_loss: 0.4748\n",
            "Epoch 3/20\n",
            "\u001b[1m478/478\u001b[0m \u001b[32m━━━━━━━━━━━━━━━━━━━━\u001b[0m\u001b[37m\u001b[0m \u001b[1m262s\u001b[0m 536ms/step - accuracy: 0.8782 - loss: 0.3475 - val_accuracy: 0.8350 - val_loss: 0.4614\n",
            "Epoch 4/20\n",
            "\u001b[1m478/478\u001b[0m \u001b[32m━━━━━━━━━━━━━━━━━━━━\u001b[0m\u001b[37m\u001b[0m \u001b[1m296s\u001b[0m 608ms/step - accuracy: 0.9050 - loss: 0.2733 - val_accuracy: 0.8466 - val_loss: 0.4706\n",
            "Epoch 5/20\n",
            "\u001b[1m478/478\u001b[0m \u001b[32m━━━━━━━━━━━━━━━━━━━━\u001b[0m\u001b[37m\u001b[0m \u001b[1m292s\u001b[0m 547ms/step - accuracy: 0.9228 - loss: 0.2169 - val_accuracy: 0.8448 - val_loss: 0.5127\n",
            "Epoch 6/20\n",
            "\u001b[1m478/478\u001b[0m \u001b[32m━━━━━━━━━━━━━━━━━━━━\u001b[0m\u001b[37m\u001b[0m \u001b[1m263s\u001b[0m 550ms/step - accuracy: 0.9374 - loss: 0.1829 - val_accuracy: 0.8386 - val_loss: 0.5712\n",
            "\u001b[1m299/299\u001b[0m \u001b[32m━━━━━━━━━━━━━━━━━━━━\u001b[0m\u001b[37m\u001b[0m \u001b[1m20s\u001b[0m 67ms/step - accuracy: 0.8373 - loss: 0.4655\n",
            "Test Loss: 0.4378267824649811\n",
            "Test Accuracy: 0.8465082049369812\n",
            "\u001b[1m299/299\u001b[0m \u001b[32m━━━━━━━━━━━━━━━━━━━━\u001b[0m\u001b[37m\u001b[0m \u001b[1m24s\u001b[0m 76ms/step\n",
            "                    precision    recall  f1-score   support\n",
            "\n",
            "Cabernet Sauvignon       0.79      0.88      0.84      1831\n",
            "            Merlot       0.89      0.85      0.87      2305\n",
            "        Pinot Noir       0.91      0.41      0.56       617\n",
            "        Chardonnay       0.90      0.92      0.91      2724\n",
            "          Riesling       0.94      0.83      0.88      1079\n",
            "   Sauvignon Blanc       0.65      0.86      0.74       995\n",
            "\n",
            "          accuracy                           0.85      9551\n",
            "         macro avg       0.85      0.79      0.80      9551\n",
            "      weighted avg       0.86      0.85      0.84      9551\n",
            "\n",
            "Confusion Matrix:\n",
            "[[1613    4   20  179    0   15]\n",
            " [   2 1955    2   13   29  304]\n",
            " [ 260    5  252   88    5    7]\n",
            " [ 154   32    2 2513    4   19]\n",
            " [   1   72    0    2  895  109]\n",
            " [   0  118    0    1   19  857]]\n"
          ]
        }
      ]
    },
    {
      "cell_type": "code",
      "source": [
        "# 6가지 품종에 따른 음식 페어링 사전\n",
        "food_pairings = {\n",
        "    'Cabernet Sauvignon': 'Grilled steak, lamb',\n",
        "    'Merlot': 'Roast chicken, pasta',\n",
        "    'Pinot Noir': 'Duck, mushroom risotto',\n",
        "    'Chardonnay': 'Chicken, seafood',\n",
        "    'Riesling': 'Spicy Asian food, pork',\n",
        "    'Sauvignon Blanc': 'Salad, goat cheese'\n",
        "}\n",
        "\n",
        "# 사용자가 입력한 와인 설명으로 예측\n",
        "user_description = input(\"Enter a wine description: \")\n",
        "\n",
        "# 입력된 텍스트 전처리\n",
        "user_seq = tokenizer.texts_to_sequences([user_description])\n",
        "user_seq = pad_sequences(user_seq, maxlen=max_len)\n",
        "\n",
        "# 와인 품종 예측\n",
        "wine_type_prediction = model_multi.predict(user_seq)\n",
        "predicted_variety_index = np.argmax(wine_type_prediction)\n",
        "\n",
        "# 예측된 와인 품종\n",
        "predicted_variety = target_varieties[predicted_variety_index]\n",
        "\n",
        "# 예측된 품종에 따른 음식 페어링 제공\n",
        "if predicted_variety in food_pairings:\n",
        "    print(f\"Recommended variety: {predicted_variety}\")\n",
        "    print(f\"Recommended food pairing: {food_pairings[predicted_variety]}\")\n",
        "else:\n",
        "    print(f\"No pairing found for {predicted_variety}.\")\n"
      ],
      "metadata": {
        "id": "zWV93dWMm3OS",
        "colab": {
          "base_uri": "https://localhost:8080/"
        },
        "outputId": "bff764cd-b61d-4268-b8ff-9d5a98ee0cf2"
      },
      "execution_count": null,
      "outputs": [
        {
          "output_type": "stream",
          "name": "stdout",
          "text": [
            "Enter a wine description: Lifted cedar and pine notes interspersed with appealing woodsy scents give way to a surprisingly intense palate that shows some nice peppery notes but ultimately falls short on the finish. Nearly imperceptible tannins suggest early consumption.\n",
            "\u001b[1m1/1\u001b[0m \u001b[32m━━━━━━━━━━━━━━━━━━━━\u001b[0m\u001b[37m\u001b[0m \u001b[1m0s\u001b[0m 114ms/step\n",
            "Recommended variety: Pinot Noir\n",
            "Recommended food pairing: Duck, mushroom risotto\n"
          ]
        }
      ]
    },
    {
      "cell_type": "markdown",
      "source": [
        "gpt에게네덜란드 배비치 블랙 소비뇽 블랑의 영어로 된 와인 리뷰를 한개만 가져다 줘 질문\n",
        "\n",
        "Here is an English wine review for the Babich Black Label Sauvignon Blanc 2023:\n",
        "\n",
        "The wine is described as inviting and musky, with aromas of gooseberry, mandarin, and a hint of fennel on the nose. On the palate, it is fresh and lively with flavors of lemon, lime, gooseberry, and blackcurrant. The mid-palate develops with additional flavors of grapefruit and honeydew melon, while pineapple is noticeable on the finish. The wine is characterized as soft and layered, with a lingering spicy finish\n",
        "\n",
        "이 와인은 매력적이고 머스크 향이 난다고 묘사되며, 코에서는 구스베리, 만다린, 약간의 회향 향이 느껴집니다. 입안에서는 신선하고 생기 넘치며, 레몬, 라임, 구스베리, 블랙커런트의 풍미가 있습니다. 중간 맛에서는 자몽과 허니듀 멜론의 추가적인 맛이 발전하며, 마무리에서는 파인애플이 두드러집니다. 이 와인은 부드럽고 층이 있는 특징을 가지며, 매운 맛이 오래 지속되는 마무리를 가지고 있습니다."
      ],
      "metadata": {
        "id": "lxCMBjfWAvAD"
      }
    },
    {
      "cell_type": "markdown",
      "source": [
        "gpt에게 클라우드베이 피노누아의 영어로 된 와인 리뷰를 한개만 가져다 줘 질문\n",
        "\n",
        "이 와인은 시더와 소나무의 향이 돋보이며, 매력적인 숲속 향이 어우러져 있습니다. 예상외로 강렬한 맛을 보여주며, 고소한 후추 향도 느껴지지만, 마무리에서는 다소 부족한 느낌을 줍니다. 거의 감지되지 않는 탄닌이 있어, 이 와인은 빨리 소비하는 것이 좋을 것 같습니다.\n",
        "Lifted cedar and pine notes interspersed with appealing woodsy scents give way to a surprisingly intense palate that shows some nice peppery notes but ultimately falls short on the finish. Nearly imperceptible tannins suggest early consumption.\n"

      ],
      "metadata": {
        "id": "RNI46WU7AxcQ"
      }
    },
    {
      "cell_type": "markdown",
      "source": [
        "1. 정확도 (Accuracy): 정의: 전체 데이터 중에서 맞게 예측한 비율입니다.\n",
        "\n",
        "쉽게 말하면:\n",
        "100개의 와인을 예측했는데, 87개를 맞췄다면 정확도 = 87%\n",
        "한계점: 데이터가 불균형(어느 한쪽 데이터가 훨씬 많음)할 때는 신뢰하기 어려울 수 있어요.\n",
        "예) 90개의 빨간 와인, 10개의 흰 와인이 있으면 전부 빨간 와인이라고 예측해도 90% 정확도가 나올 수 있어요.\n",
        "\n",
        "2. 정밀도 (Precision): 정의: 모델이 어떤 종류의 와인이라고 예측한 것들 중에서 정말 그 종류인 비율입니다.\n",
        "\n",
        "쉽게 말하면:\n",
        "모델이 \"이 와인은 빨간 와인!\"이라고 예측한 100병 중에서, 진짜 빨간 와인은 몇 병인가요?\n",
        "왜 중요할까?\n",
        "예측한 와인이 틀리면 큰 문제가 되는 상황에서 중요해요.\n",
        "예) \"빨간 와인은 고기랑 잘 어울려요\"라고 추천했는데 흰 와인이라면 식사 경험이 망할 수 있죠!\n",
        "\n",
        "3. 재현율 (Recall): 정의: 전체 빨간 와인 중에서 모델이 얼마나 많이 \"빨간 와인\"이라고 맞췄는지의 비율입니다.\n",
        "\n",
        "쉽게 말하면:\n",
        "100개의 빨간 와인 중에서 모델이 \"빨간 와인!\"이라고 맞춘 병이 몇 병인가요?\n",
        "왜 중요할까?\n",
        "모든 빨간 와인을 잘 찾아야 하는 상황에서 중요해요.\n",
        "예) 어떤 병이 빨간 와인인데 모델이 모르고 흰 와인이라고 하면 문제가 될 수 있죠.\n",
        "\n",
        "4. F1 점수 (F1-Score): 정의: 정밀도와 재현율을 적절히 조화시킨 평균 점수입니다.\n",
        "\n",
        "쉽게 말하면:\n",
        "정확히 맞추는 것도 중요하고, 놓치는 것도 없게 하는 것을 동시에 잘할 때 높은 점수가 나와요.\n",
        "왜 중요할까?\n",
        "데이터가 불균형한 경우(빨간 와인이 훨씬 많을 때) 정확도 대신 F1 점수를 확인하면 더 좋은 판단을 할 수 있어요.\n",
        "\n",
        "5. Support는 각 클래스(예: 빨간 와인, 흰 와인)에 해당하는 실제 데이터의 개수를 의미합니다. 즉, 평가지표를 계산하는 데 사용된 데이터 샘플의 수라고 보면 됩니다.\n",
        "\n",
        "\n",
        "6. 혼동 행렬 (Confusion Matrix): 정의: 모델이 예측한 것과 실제 값이 어떻게 매칭되는지 보여주는 표입니다.\n",
        "\n",
        "쉽게 말하면:\n",
        "\n",
        "\"빨간 와인\"을 맞췄는지 틀렸는지, \"흰 와인\"을 맞췄는지 틀렸는지 눈으로 확인 가능합니다.\n",
        "\n",
        "예시:\n",
        "\n",
        "    실제\\예측\t    빨간 와인\t    흰 와인\n",
        "\n",
        "    빨간 와인\t        80\t         10\n",
        "\n",
        "    흰 와인\t           5              5\n",
        "빨간 와인 80개를 맞췄고, 10개를 흰 와인으로 틀림.\n",
        "\n",
        "흰 와인 5개를 맞췄고, 5개를 빨간 와인으로 틀림.\n",
        "\n"
      ],
      "metadata": {
        "id": "8z0ze3Mvm6GP"
      }
    }
  ]
}
